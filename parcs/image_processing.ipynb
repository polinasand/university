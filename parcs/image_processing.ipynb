{
  "nbformat": 4,
  "nbformat_minor": 0,
  "metadata": {
    "colab": {
      "name": "image_processing.ipynb",
      "provenance": [],
      "collapsed_sections": []
    },
    "kernelspec": {
      "name": "python3",
      "display_name": "Python 3"
    },
    "language_info": {
      "name": "python"
    }
  },
  "cells": [
    {
      "cell_type": "code",
      "metadata": {
        "id": "N99l8xgdElE8"
      },
      "source": [
        "from PIL import Image\n",
        "\n",
        "image = Image.open('1.jpg')\n",
        "data = np.array(image)\n",
        "f = open('input.txt', 'w')\n",
        "f.write(str(image.size[0])+' '+str(image.size[1])+' ')\n",
        "for row in data:\n",
        "  for col in row:\n",
        "    np.savetxt(f, col, newline=' ',fmt='%s')\n",
        "f.close()"
      ],
      "execution_count": null,
      "outputs": []
    },
    {
      "cell_type": "code",
      "metadata": {
        "id": "-lox9nXoEr8v"
      },
      "source": [
        "import numpy as np\n",
        "\n",
        "data = []\n",
        "\n",
        "f = open(\"output.txt\", 'r')\n",
        "content = f.read().split(' ')\n",
        "m, n = int(content[1]), int(content[0])\n",
        "print(m,n, len(content))\n",
        "content = content[2:]\n",
        "\n",
        "for i in range(m):\n",
        "  row = []\n",
        "  for j in range(n):\n",
        "    t = (i*n+j)*3\n",
        "    \n",
        "    row.append((int(content[t]), int(content[t+1]), int(content[t+2])))\n",
        "  data.append(row)\n",
        "f.close()\n",
        "\n",
        "data = np.array(data, dtype = np.uint8)\n",
        "image = Image.fromarray(data)\n",
        "image.save('new_img.png')"
      ],
      "execution_count": null,
      "outputs": []
    }
  ]
}